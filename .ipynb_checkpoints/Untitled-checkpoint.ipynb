{
 "cells": [
  {
   "cell_type": "code",
   "execution_count": 1,
   "id": "87003f15",
   "metadata": {},
   "outputs": [],
   "source": [
    "import maxpy as mp"
   ]
  },
  {
   "cell_type": "code",
   "execution_count": 6,
   "id": "6e3850a9",
   "metadata": {},
   "outputs": [
    {
     "name": "stdout",
     "output_type": "stream",
     "text": [
      "Patcher: new patch created from template file: empty_template.json\n"
     ]
    }
   ],
   "source": [
    "patch = mp.MaxPatch()"
   ]
  },
  {
   "cell_type": "code",
   "execution_count": 7,
   "id": "42ac9d08",
   "metadata": {},
   "outputs": [
    {
     "name": "stdout",
     "output_type": "stream",
     "text": [
      "ObjectError: not-an-obj : creation : object unknown\n",
      " PatchError: unknown obj :  not-an-obj\n",
      "  ObjectMsg: sample-abstraction : creation : sample-abstraction.maxpat file found, abstraction created\n",
      "  ObjectMsg: js : creation : example.js found, parsing for inlet/outlet numbers\n",
      "  ObjectMsg: js : creation : 4 inlets, 5 outlets in accordance with example.js\n",
      "ObjectError: js : creation : not-a-file.js not found in current directory, file not linked\n"
     ]
    }
   ],
   "source": [
    "patch.place('not-an-obj',  'sample-abstraction', 'js example.js', 'js not-a-file.js')"
   ]
  },
  {
   "cell_type": "code",
   "execution_count": 8,
   "id": "cc0e0885",
   "metadata": {
    "scrolled": true
   },
   "outputs": [
    {
     "data": {
      "text/plain": [
       "{'obj-1': not-an-obj [not-an-obj],\n",
       " 'obj-2': sample-abstraction [sample-abstraction],\n",
       " 'obj-3': js [js 5 4 example.js],\n",
       " 'obj-4': js [js not-a-file.js]}"
      ]
     },
     "execution_count": 8,
     "metadata": {},
     "output_type": "execute_result"
    }
   ],
   "source": [
    "patch.objs"
   ]
  },
  {
   "cell_type": "code",
   "execution_count": 10,
   "id": "b2cca4a8",
   "metadata": {},
   "outputs": [
    {
     "name": "stdout",
     "output_type": "stream",
     "text": [
      "PatchCheck: unknown objects :\n",
      "               obj-1 : not-an-obj [not-an-obj]\n",
      "\n",
      "PatchCheck: unlinked js objects :\n",
      "               obj-4 : js [js not-a-file.js]\n",
      "\n",
      "PatchCheck: linked js objects (files must be in same folder as patch file):\n",
      "               obj-3 : js [js 5 4 example.js] --> example.js\n",
      "\n",
      "PatchCheck: linked abstractions (files must be in same folder as patch file):\n",
      "               obj-2 : sample-abstraction [sample-abstraction] --> sample-abstraction.maxpat\n",
      "\n"
     ]
    }
   ],
   "source": [
    "patch.check()"
   ]
  },
  {
   "cell_type": "code",
   "execution_count": null,
   "id": "d408ee6a",
   "metadata": {},
   "outputs": [],
   "source": [
    "patch.save('test.maxpat')"
   ]
  },
  {
   "cell_type": "code",
   "execution_count": null,
   "id": "c2c684da",
   "metadata": {},
   "outputs": [],
   "source": [
    "load = mp.MaxPatch(load_file='test.maxpat')"
   ]
  },
  {
   "cell_type": "code",
   "execution_count": null,
   "id": "860a959e",
   "metadata": {},
   "outputs": [],
   "source": [
    "load.objs"
   ]
  },
  {
   "cell_type": "code",
   "execution_count": null,
   "id": "0d447506",
   "metadata": {},
   "outputs": [],
   "source": [
    "load.objs"
   ]
  },
  {
   "cell_type": "code",
   "execution_count": null,
   "id": "56be92af",
   "metadata": {},
   "outputs": [],
   "source": [
    "patch = mp.MaxPatch()\n",
    "patch.place('not-an-obj')"
   ]
  },
  {
   "cell_type": "code",
   "execution_count": null,
   "id": "d42d398b",
   "metadata": {},
   "outputs": [],
   "source": [
    "patch.objs"
   ]
  },
  {
   "cell_type": "code",
   "execution_count": null,
   "id": "65f62746",
   "metadata": {},
   "outputs": [],
   "source": [
    "patch.place('sample-abstraction')"
   ]
  },
  {
   "cell_type": "code",
   "execution_count": null,
   "id": "2c491dd4",
   "metadata": {},
   "outputs": [],
   "source": [
    "patch.objs"
   ]
  },
  {
   "cell_type": "code",
   "execution_count": null,
   "id": "5f2ca9f0",
   "metadata": {},
   "outputs": [],
   "source": []
  }
 ],
 "metadata": {
  "kernelspec": {
   "display_name": "Python 3 (ipykernel)",
   "language": "python",
   "name": "python3"
  },
  "language_info": {
   "codemirror_mode": {
    "name": "ipython",
    "version": 3
   },
   "file_extension": ".py",
   "mimetype": "text/x-python",
   "name": "python",
   "nbconvert_exporter": "python",
   "pygments_lexer": "ipython3",
   "version": "3.9.10"
  }
 },
 "nbformat": 4,
 "nbformat_minor": 5
}
